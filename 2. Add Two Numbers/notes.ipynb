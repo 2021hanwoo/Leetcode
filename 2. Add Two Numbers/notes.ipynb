{
 "cells": [
  {
   "cell_type": "markdown",
   "metadata": {},
   "source": [
    "Notes:\n",
    "\n",
    "- Initially submitted an answer and it was correct.\n",
    "- Later, I reviewed a Java model answer and realized that I could enhance the readability of my code by using the ? : ternary operator for l1Val and l2Val.\n",
    "- I incorporated the suggested change into my code, but it did not have a significant impact on efficiency.\""
   ]
  }
 ],
 "metadata": {
  "kernelspec": {
   "display_name": "Python 3.11.1 64-bit",
   "language": "python",
   "name": "python3"
  },
  "language_info": {
   "name": "python",
   "version": "3.11.1"
  },
  "orig_nbformat": 4,
  "vscode": {
   "interpreter": {
    "hash": "aee8b7b246df8f9039afb4144a1f6fd8d2ca17a180786b69acc140d282b71a49"
   }
  }
 },
 "nbformat": 4,
 "nbformat_minor": 2
}
