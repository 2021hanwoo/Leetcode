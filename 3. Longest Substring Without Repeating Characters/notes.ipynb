{
 "cells": [
  {
   "cell_type": "markdown",
   "metadata": {},
   "source": [
    "Notes:\n",
    "\n",
    "- Explored various solutions to solve this problem, including reviewing model answers.\n",
    "\n",
    "- Implemented a two-pointer solution to improve efficiency.\n",
    "\n",
    "- The first pointer, pt1, stores the starting index of the current substring, while the second pointer, pt2, loops through the string.\n",
    "\n",
    "- In order to ensure that the new substring starts at the correct index, we update the value of pt1 to be the index of the last occurrence of the current character in the substring, plus one. This is done using the line pt1 = dictionary[s[pt2]]+1. When a repeating character is encountered, we want to update the starting index, pt1, to be the next index after the last occurrence of that character in the substring, so that the new substring only contains unique characters. For example, a test case like \"abba\" ensures that this is correctly implemented."
   ]
  }
 ],
 "metadata": {
  "kernelspec": {
   "display_name": "Python 3.11.1 64-bit",
   "language": "python",
   "name": "python3"
  },
  "language_info": {
   "name": "python",
   "version": "3.11.1"
  },
  "orig_nbformat": 4,
  "vscode": {
   "interpreter": {
    "hash": "aee8b7b246df8f9039afb4144a1f6fd8d2ca17a180786b69acc140d282b71a49"
   }
  }
 },
 "nbformat": 4,
 "nbformat_minor": 2
}
